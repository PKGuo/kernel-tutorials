{
 "cells": [
  {
   "cell_type": "code",
   "execution_count": null,
   "metadata": {},
   "outputs": [],
   "source": [
    "import sys\n",
    "sys.path.append('../')\n",
    "\n",
    "import numpy as np\n",
    "import ase.io\n",
    "from utilities.feature_space_measures import compute_gfre, compute_pointwise_gfre, compute_gfrd, compute_lfre, compute_pointwise_lfre, standardize_features\n",
    "import matplotlib as mpl\n",
    "import matplotlib.pyplot as plt\n",
    "from rascal.representations import SphericalInvariants\n",
    "\n",
    "mpl.rcParams['lines.linewidth'] = 3\n",
    "mpl.rcParams['axes.linewidth'] = 2\n",
    "mpl.rcParams['axes.labelsize'] = 28\n",
    "mpl.rcParams['legend.fontsize'] = 20\n",
    "mpl.rcParams['axes.titlesize'] = 30\n",
    "mpl.rcParams['xtick.labelsize'] = 22\n",
    "mpl.rcParams['ytick.labelsize'] = 22"
   ]
  },
  {
   "cell_type": "markdown",
   "metadata": {},
   "source": [
    "These are the hyperparameters for the representation which we use for in all examples. The `soap_features` are symmetrized 3-body atom correlation function features (SOAP) features while the  `bispectrum_features` are symmetrized 4-body atom correlation function features (bispectrum)."
   ]
  },
  {
   "cell_type": "code",
   "execution_count": null,
   "metadata": {},
   "outputs": [],
   "source": [
    "radial_basis = \"GTO\"\n",
    "cutoff = 4\n",
    "max_radial = 2\n",
    "max_angular = 2\n",
    "smearing_sigma = 0.5\n",
    "gaussian_sigma_type = \"Constant\"\n",
    "cutoff_smooth_width = 0.5\n",
    "normalize = False\n",
    "\n",
    "soap_hyperparameters = {\n",
    "        \"soap_type\": \"PowerSpectrum\",\n",
    "        \"radial_basis\": radial_basis,\n",
    "        \"interaction_cutoff\": cutoff,\n",
    "        \"max_radial\": max_radial,\n",
    "        \"max_angular\": max_angular,\n",
    "        \"gaussian_sigma_constant\": smearing_sigma,\n",
    "        \"gaussian_sigma_type\": gaussian_sigma_type,\n",
    "        \"cutoff_smooth_width\": cutoff_smooth_width,\n",
    "        \"normalize\": normalize\n",
    "    }\n",
    "bispectrum_hyperparameters =  {\n",
    "        \"soap_type\": \"BiSpectrum\",\n",
    "        \"radial_basis\": radial_basis,\n",
    "        \"interaction_cutoff\": cutoff,\n",
    "        \"max_radial\": max_radial,\n",
    "        \"max_angular\": max_angular,\n",
    "        \"gaussian_sigma_constant\": smearing_sigma,\n",
    "        \"gaussian_sigma_type\": gaussian_sigma_type,\n",
    "        \"cutoff_smooth_width\": cutoff_smooth_width,\n",
    "        \"normalize\": normalize\n",
    "    }\n",
    "\n",
    "def compute_features(feature_hypers, frames):\n",
    "    representation = SphericalInvariants(**feature_hypers)\n",
    "    return representation.transform(frames).get_features(representation)"
   ]
  },
  {
   "cell_type": "markdown",
   "metadata": {},
   "source": [
    "### Example 1: GFRE/GFRD body order comparison"
   ]
  },
  {
   "cell_type": "code",
   "execution_count": null,
   "metadata": {},
   "outputs": [],
   "source": [
    "chemical_shift_frames = ase.io.read(\"../datasets/CSD-1000R.xyz\", \":10\")\n",
    "\n",
    "soap_features = compute_features(soap_hyperparameters, chemical_shift_frames)\n",
    "bispectrum_features = features = compute_features(bispectrum_hyperparameters, chemical_shift_frames)\n",
    "\n",
    "gfre_matrix = np.zeros((2,2))\n",
    "print(\"Computing GFRE...\")\n",
    "gfre_matrix[0,0] = compute_gfre(soap_features, soap_features)\n",
    "gfre_matrix[0,1] = compute_gfre(soap_features, bispectrum_features)\n",
    "gfre_matrix[1,0] = compute_gfre(bispectrum_features, soap_features)\n",
    "gfre_matrix[1,1] = compute_gfre(bispectrum_features, bispectrum_features)\n",
    "print(\"Computing GFRE finished.\")\n",
    "\n",
    "gfrd_matrix = np.zeros((2,2))\n",
    "print(\"Computing GFRD...\")\n",
    "gfrd_matrix[0,0] = compute_gfrd(soap_features, soap_features)\n",
    "gfrd_matrix[0,1] = compute_gfrd(soap_features, bispectrum_features)\n",
    "gfrd_matrix[1,0] = compute_gfrd(bispectrum_features, soap_features)\n",
    "gfrd_matrix[1,1] = compute_gfrd(bispectrum_features, bispectrum_features)\n",
    "print(\"Computing GFRD finished.\")"
   ]
  },
  {
   "cell_type": "code",
   "execution_count": null,
   "metadata": {},
   "outputs": [],
   "source": [
    "fig, axes = plt.subplots(1,2, figsize=(16,4))\n",
    "pcm1 = axes[0].imshow(gfre_matrix)\n",
    "pcm2 = axes[1].imshow(gfrd_matrix)\n",
    "axes[0].set_ylabel(\"F\")\n",
    "axes[1].set_ylabel(\"F\")\n",
    "axes[0].set_xlabel(\"F'\")\n",
    "axes[1].set_xlabel(\"F'\")\n",
    "axes[0].set_title(\"GFRE(F, F')\")\n",
    "axes[1].set_title(\"GFRD(F, F')\")\n",
    "axes[0].set_xticks([0,1])\n",
    "axes[0].set_xticklabels([\"3-body\",\"4-body\"])\n",
    "axes[1].set_xticks([0,1])\n",
    "axes[1].set_xticklabels([\"3-body\",\"4-body\"])\n",
    "axes[0].set_yticks([0,1])\n",
    "axes[0].set_yticklabels([\"3-body\",\"4-body\"])\n",
    "axes[1].set_yticks([0,1])\n",
    "axes[1].set_yticklabels([\"3-body\",\"4-body\"])\n",
    "plt.colorbar(pcm1, ax=axes[0], label=\"GFRE\")\n",
    "plt.colorbar(pcm2, ax=axes[1], label=\"GFRD\")\n",
    "plt.show()"
   ]
  },
  {
   "cell_type": "markdown",
   "metadata": {},
   "source": [
    "It can be seen that the 4-body features can reconstruct the 3-body features with significant distortion of the features better than the 3-body can reconstruct the 4-body features."
   ]
  },
  {
   "cell_type": "markdown",
   "metadata": {},
   "source": [
    "## Example 2: Pointwise GFRE with RBF kernel features\n",
    "\n",
    "\\begin{align}\n",
    "k_E^{\\textrm{RBF}}(\\mathbf{x},\\mathbf{x}') = \\exp(-\\gamma \\|\\mathbf{x}-\\mathbf{x}'\\|^2),\\quad \\gamma\\in\\mathbb{R}_+ \\label{eq:k-rbf}\n",
    "\\end{align}\n"
   ]
  },
  {
   "cell_type": "code",
   "execution_count": null,
   "metadata": {},
   "outputs": [],
   "source": [
    "# function for computing computing RBF kernel features from features based on orthogonal basis functions\n",
    "def compute_rbf_kernel_features(features, gamma):\n",
    "    features = standardize_features(features)\n",
    "    squared_distance = np.sum(features ** 2, axis=1)[:, np.newaxis] + np.sum(features ** 2, axis=1)[np.newaxis, :] - 2 * features.dot(features.T)\n",
    "    kernel = np.exp(-gamma * squared_distance)\n",
    "    U, S, _ = np.linalg.svd(kernel)\n",
    "    return U.dot(np.diag(S))\n",
    "\n",
    "gamma = 0.1\n",
    "soap_rbf_features = compute_rbf_kernel_features(soap_features, gamma=gamma)\n",
    "\n",
    "print(\"Computing pointwise GFRE...\")\n",
    "soap_to_bispectrum_pointwise_gfre = compute_pointwise_gfre(soap_features, bispectrum_features)\n",
    "soap_rbf_to_bispectrum_pointwise_gfre = compute_pointwise_gfre(soap_rbf_features, bispectrum_features)\n",
    "print(\"Computing pointwise GFRE finished.\")\n",
    "soap_to_bispectrum_gfre = np.linalg.norm(soap_to_bispectrum_pointwise_gfre)/np.sqrt(len(soap_to_bispectrum_pointwise_gfre))\n",
    "soap_rbf_to_bispectrum_gfre = np.linalg.norm(soap_rbf_to_bispectrum_pointwise_gfre)/np.sqrt(len(soap_rbf_to_bispectrum_pointwise_gfre))                                                                                    "
   ]
  },
  {
   "cell_type": "code",
   "execution_count": null,
   "metadata": {},
   "outputs": [],
   "source": [
    "fig, axes = plt.subplots(1,1, figsize=(12,7))\n",
    "axes.hist(soap_to_bispectrum_pointwise_gfre, alpha=0.8, label=\"pointwise GFRE(3-body, 4-body)\")\n",
    "axes.hist(soap_rbf_to_bispectrum_pointwise_gfre, color='r', alpha=0.8, label=\"pointwise GFRE(3-body RBF, 4-body)\")\n",
    "axes.axvline(soap_to_bispectrum_gfre, color='darkblue', label=\"GFRE(3-body, 4-body)\")\n",
    "axes.axvline(soap_rbf_to_bispectrum_gfre, color='darkred', label=\"GFRE(3-body RBF, 4-body)\")\n",
    "axes.set_title(f\"3-body vs 4-body RBF gamma={gamma} comparison\")\n",
    "axes.set_xlabel(\"pointwise GFRE\")\n",
    "axes.set_ylabel(\"number of samples\")\n",
    "axes.legend()\n",
    "plt.show()"
   ]
  },
  {
   "cell_type": "markdown",
   "metadata": {},
   "source": [
    "It can be seen that the RBF features improved the reconstruction of the 4-body features."
   ]
  },
  {
   "cell_type": "markdown",
   "metadata": {},
   "source": [
    "### Example 3: LFRE on the degenerate manifold dataset"
   ]
  },
  {
   "cell_type": "code",
   "execution_count": null,
   "metadata": {},
   "outputs": [],
   "source": [
    "degenerate_manifold_frames = ase.io.read(\"../datasets/manif-minus-plus.extxyz\", \":\")\n",
    "for frame in degenerate_manifold_frames:\n",
    "    frame.cell = np.ones(3)*15\n",
    "    frame.center()\n",
    "    frame.numbers = np.ones(len(frame.numbers))\n",
    "\n",
    "# select methane environments\n",
    "print(\"Computing features...\")\n",
    "nb_local_envs = 15\n",
    "soap_features = compute_features(soap_hyperparameters, degenerate_manifold_frames )[::5]\n",
    "bispectrum_features = features = compute_features(bispectrum_hyperparameters, degenerate_manifold_frames)[::5]\n",
    "print(\"Computing features finished.\")\n",
    "\n",
    "\n",
    "nb_local_envs = 20\n",
    "print(\"Computing pointwise LFRE...\")\n",
    "soap_to_bispectrum_pointwise_lfre = compute_pointwise_lfre(soap_features, bispectrum_features, nb_local_envs)\n",
    "bispectrum_to_soap_pointwise_lfre = compute_pointwise_lfre(bispectrum_features, soap_features, nb_local_envs)\n",
    "print(\"Computing pointwise LFRE finished.\")\n",
    "\n",
    "print(f\"LFRE(3-body, 4-body) = {np.linalg.norm(soap_to_bispectrum_pointwise_lfre)/np.sqrt(len(soap_to_bispectrum_pointwise_lfre))}\")\n",
    "print(f\"LFRE(4-body, 3-body) = {np.linalg.norm(bispectrum_to_soap_pointwise_lfre)/np.sqrt(len(soap_to_bispectrum_pointwise_lfre))}\")"
   ]
  },
  {
   "cell_type": "code",
   "execution_count": null,
   "metadata": {},
   "outputs": [],
   "source": [
    "fig, axes = plt.subplots(1,2, constrained_layout=True, figsize=(16,7.5))\n",
    "vmax = 0.4\n",
    "X, Y = np.meshgrid(np.linspace(0.7,0.9,9), np.linspace(-0.1,0.1,9))\n",
    "pcm = axes[0].contourf(X, Y, soap_to_bispectrum_pointwise_lfre[81:].reshape(9,9).T, vmin=0, vmax=vmax)\n",
    "axes[1].contourf(X, Y, bispectrum_to_soap_pointwise_lfre[81:].reshape(9,9).T, vmin=0, vmax=vmax)\n",
    "axes[0].set_ylabel(\"v/π\")\n",
    "axes[1].set_ylabel(\"v/π\")\n",
    "axes[0].set_xlabel(\"u/π\")\n",
    "axes[1].set_xlabel(\"u/π\")\n",
    "axes[0].set_title(\"X minus LFRE(3-body, 4-body)\")\n",
    "axes[1].set_title(\"X minus LFRE(4-body, 3-body)\")\n",
    "fig.colorbar(pcm, ax=axes, label=\"\", location=\"bottom\")\n",
    "plt.show()"
   ]
  },
  {
   "cell_type": "markdown",
   "metadata": {},
   "source": [
    "It can see that the samples corresponding to the degenerate line at v/pi = 0 cannot be well reconstructed locally. The result stands more out for higher number of basis functions."
   ]
  }
 ],
 "metadata": {
  "kernelspec": {
   "display_name": "Python 3",
   "language": "python",
   "name": "python3"
  },
  "language_info": {
   "codemirror_mode": {
    "name": "ipython",
    "version": 3
   },
   "file_extension": ".py",
   "mimetype": "text/x-python",
   "name": "python",
   "nbconvert_exporter": "python",
   "pygments_lexer": "ipython3",
   "version": "3.7.6"
  }
 },
 "nbformat": 4,
 "nbformat_minor": 4
}
